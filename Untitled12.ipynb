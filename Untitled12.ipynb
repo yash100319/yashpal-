{
  "nbformat": 4,
  "nbformat_minor": 0,
  "metadata": {
    "colab": {
      "provenance": []
    },
    "kernelspec": {
      "name": "python3",
      "display_name": "Python 3"
    },
    "language_info": {
      "name": "python"
    }
  },
  "cells": [
    {
      "cell_type": "code",
      "execution_count": null,
      "metadata": {
        "id": "ux5v8-j8dWVb"
      },
      "outputs": [],
      "source": []
    },
    {
      "cell_type": "markdown",
      "source": [
        "Statistics Part 2\n",
        "# Assignment Questions\n",
        "1. What is hypothesis testing in statistics ?\n",
        "- Hypothesis testing in statistics is a method used to make decisions or inferences about a population based on sample data. It helps determine whether there is enough statistical evidence in favor of a certain belief (called a hypothesis) about a parameter (like a population mean or proportion).\n",
        "2. What is the null hypothesis, and how does it differ from the alternative hypothesis ?\n",
        "- The null hypothesis and the alternative hypothesis are foundational concepts in statistical hypothesis testing.\n",
        "Alternative Hypothesis (H₁ or Ha):\n",
        "Definition: A statement that contradicts the null hypothesis. It suggests that there is an effect, a difference, or a relationship.\n",
        "\n",
        "Purpose: It is what the researcher typically hopes to support with evidence.\n",
        "3. What is the significance level in hypothesis testing, and why is it important ?\n",
        "- he significance level in hypothesis testing, commonly denoted by α (alpha), is the probability of rejecting the null hypothesis when it is actually true — in other words, it's the risk of making a Type I error\n",
        "Controls the Risk of False Positives:\n",
        "\n",
        "Setting α = 0.05 means you're accepting a 5% chance of incorrectly rejecting the null hypothesis. This helps balance the risk of drawing incorrect conclusions from random variability.\n",
        "\n",
        "Sets the Threshold for Statistical Significance:\n",
        "\n",
        "If the p-value from your test is less than α, you reject the null hypothesis. So α determines how strong the evidence must be to declare results statistically significant.\n",
        "\n",
        "\n",
        "4. What does a P-value represent in hypothesis testing ?\n",
        "- In hypothesis testing, the P-value (or probability value) represents the probability of obtaining a test statistic at least as extreme as the one observed, assuming the null hypothesis is true.\n",
        "\n",
        "Breaking that down:\n",
        "Null hypothesis (\n",
        "𝐻\n",
        "0\n",
        "H\n",
        "0\n",
        "​\n",
        " ): A default assumption (e.g., no effect, no difference).\n",
        "\n",
        "Alternative hypothesis (\n",
        "𝐻\n",
        "1\n",
        "H\n",
        "1\n",
        "​\n",
        "  or\n",
        "𝐻\n",
        "𝑎\n",
        "H\n",
        "a\n",
        "​\n",
        " ): What you're trying to provide evidence for.\n",
        "\n",
        "P-value: Tells you how likely your data would be if the null hypothesis were actually true\n",
        "5. How do you interpret the P-value in hypothesis testing ?\n",
        "- The P-value is the probability of obtaining test results at least as extreme as the observed results, assuming that the null hypothesis is true.\n",
        "\n",
        "Low P-value (typically ≤ 0.05):\n",
        "→ There is strong evidence against the null hypothesis, so you reject H₀.\n",
        "→ The observed result is unlikely under the null hypothesis.\n",
        "\n",
        "High P-value (typically > 0.05):\n",
        "→ There is weak evidence against the null hypothesis, so you fail to reject H₀.\n",
        "→ The observed result is likely under the null hypothesis.\n",
        "6. What are Type 1 and Type 2 errors in hypothesis testing ?\n",
        "- Type 1 Error (False Positive)\n",
        "Definition: Rejecting the null hypothesis when it is actually true.\n",
        "\n",
        "In simpler terms: You think there is an effect or difference, but in reality, there isn’t.\n",
        "\n",
        "Probability of Type 1 Error: Denoted by α (alpha) — typically set at 0.05 (5%).\n",
        "\n",
        "Example: A medical test wrongly indicates a person has a disease when they actually don’t.\n",
        " Type 2 Error (False Negative)\n",
        "Definition: Failing to reject the null hypothesis when it is actually false.\n",
        "\n",
        "In simpler terms: You think there is no effect or difference, but in reality, there is.\n",
        "\n",
        "Probability of Type 2 Error: Denoted by β (beta).\n",
        "\n",
        "Example: A medical test fails to detect a disease in someone who actually has it.\n",
        "7. What is the difference between a one-tailed and a two-tailed test in hypothesis testing ?\n",
        "- A one-tailed test is used when the research hypothesis predicts a specific direction of the effect (either an increase or a decrease, but not both).\n",
        "\n",
        "Purpose: Tests for the possibility of the relationship in one direction only.\n",
        "\n",
        "A two-tailed test is used when the research hypothesis does not predict the direction of the effect—just that there is some difference.\n",
        "\n",
        "Purpose: Tests for the possibility of a relationship in both directions.\n",
        "8. What is the Z-test, and when is it used in hypothesis testing ?\n",
        "- The Z-test is a type of statistical hypothesis test used to determine whether there is a significant difference between sample and population means, or between two sample means, under certain conditions. It is based on the Z-distribution, which is a standard normal distribution (mean = 0, standard deviation = 1).\n",
        "The population variance is known, or the sample size is large enough (typically n ≥ 30) for the Central Limit Theorem to apply.\n",
        "\n",
        "The data is approximately normally distributed, especially for smaller samples.\n",
        "9.  How do you calculate the Z-score, and what does it represent in hypothesis testing ?\n",
        "- A Z-score (also known as a standard score) tells you how many standard deviations a data point is from the population mean. It's a way to compare results from a sample to a standard normal distribution (mean = 0, standard deviation = 1).\n",
        "In hypothesis testing, the Z-score helps assess how extreme your test statistic is compared to the null hypothesis. It is used to determine:\n",
        "\n",
        "How far your sample mean is from the hypothesized mean, in standard deviation units.\n",
        "\n",
        "Whether that distance is statistically significant.\n",
        "\n",
        "10. What is the T-distribution, and when should it be used instead of the normal distribution ?\n",
        "- The T-distribution (or Student's T-distribution) is a probability distribution that is used in statistics when estimating population parameters when the sample size is small and/or the population standard deviation is unknown.\n",
        "\n",
        "Use the T-distribution when:\n",
        "\n",
        " The sample size is small (typically n < 30).\n",
        "\n",
        " The population standard deviation is unknown.\n",
        "\n",
        " The data is approximately normally distributed (or nearly so, especially for small n).\n",
        "\n",
        "You're performing inference tasks such as\n",
        "11. What is the difference between a Z-test and a T-test ?\n",
        "- The Z-test and T-test are both statistical methods used to determine whether there is a significant difference between means. However, they differ in when and how they are used based on the sample size and knowledge of population parameters.\n",
        "Z-test:\n",
        "\n",
        "Comparing the mean of a sample to a known population mean when σ is known.\n",
        "\n",
        "Quality control in manufacturing where population variance is known.\n",
        "\n",
        "T-test:\n",
        "\n",
        "Comparing the mean of two small samples (independent or paired).\n",
        "\n",
        "Testing whether a new drug affects blood pressure with only 20 participants and unknown population SD.\n",
        "12. What is the T-test, and how is it used in hypothesis testing ?\n",
        "- The T-test is a statistical test used to determine if there is a significant difference between the means of two groups or between a sample mean and a known value. It helps us make inferences about populations based on sample data, and it is commonly used in hypothesis testing.\n",
        "State the hypotheses:\n",
        "\n",
        "Null hypothesis (H₀): Assumes no effect or no difference between the groups (e.g., the means are equal).\n",
        "\n",
        "Alternative hypothesis (H₁): Assumes there is a significant effect or difference (e.g., the means are different).\n",
        "\n",
        "Choose a significance level (α):\n",
        "\n",
        "Typically set at 0.05, which means there's a 5% risk of rejecting the null hypothesis when it is true\n",
        "13. What is the relationship between Z-test and T-test in hypothesis testing ?\n",
        "- In hypothesis testing, both the Z-test and the T-test are statistical tests used to determine if there is a significant difference between sample data and a population parameter or between two groups. They are similar in purpose but differ in their use cases and assumptions. Here's an overview of their relationship and distinctions:\n",
        "Population Standard Deviation:\n",
        "\n",
        "Z-test: Requires knowledge of the population standard deviation (σ). It is typically used when the population standard deviation is known or the sample size is large (n > 30).\n",
        "\n",
        "T-test: Does not require the population standard deviation and instead uses the sample's standard deviation (s). It is used when the population standard deviation is unknown and the sample size is small (n < 30).\n",
        "\n",
        "Sample Size:\n",
        "\n",
        "Z-test: Often used for large sample sizes (n > 30) because with large samples, the sampling distribution of the sample mean approaches a normal distribution (Central Limit Theorem).\n",
        "\n",
        "T-test: More appropriate for small sample sizes (n < 30), especially when the sample size is small and the population variance is unknown.\n",
        "14.  What is a confidence interval, and how is it used to interpret statistical results ?\n",
        "- A confidence interval (CI) is a range of values, derived from a sample of data, that is used to estimate an unknown population parameter (like the population mean or proportion). The confidence interval provides a range of plausible values for that parameter, based on the sample data and a specified level of confidence.\n",
        "\n",
        "Key Elements of a Confidence Interval:\n",
        "Point Estimate: This is the statistic computed from the sample data (e.g., sample mean, sample proportion), which serves as the best estimate of the population parameter.\n",
        "\n",
        "Margin of Error: This represents the uncertainty or variability in the estimate. It reflects how much the point estimate might differ from the true population parameter due to sampling variability.\n",
        "15. What is the margin of error, and how does it affect the confidence interval ?\n",
        "- The margin of error is a measure of the uncertainty or potential error in the results of a statistical estimate. It tells us how much the estimated value might differ from the true population value. It's often used in surveys or polls to express the range within which the true value is likely to fall.\n",
        "The margin of error is typically calculated using the sample size, variability in the data, and the confidence level you want to achieve. It's usually expressed as a plus-or-minus value (e.g., ± 3%).\n",
        "\n",
        "For example, if a poll estimates that 60% of people support a candidate, and the margin of error is ±3%, this means that the true support could be anywhere between 57% and 63%.\n",
        "16. How is Bayes' Theorem used in statistics, and what is its significance ?\n",
        "- Bayes' Theorem is a fundamental concept in probability and statistics that describes how to update the probability of a hypothesis as more evidence or information becomes available. It's especially significant in areas involving inference, decision-making under uncertainty, and learning from data.\n",
        "Statistical Inference (Bayesian Statistics)\n",
        "\n",
        "Unlike traditional (frequentist) statistics, which often focuses on the probability of data given a hypothesis, Bayesian inference focuses on the probability of a hypothesis given observed data.\n",
        "\n",
        "It allows incorporating prior knowledge or expert opinion through the prior\n",
        "𝑃\n",
        "(\n",
        "𝐻\n",
        ")\n",
        "P(H).\n",
        "\n",
        "Hypothesis Testing\n",
        "\n",
        "Instead of rejecting a null hypothesis outright, Bayesian methods provide a probability distribution over competing hypotheses\n",
        "17. What is the Chi-square distribution, and when is it used ?\n",
        "- The Chi-square distribution (denoted as\n",
        "𝜒\n",
        "2\n",
        "χ\n",
        "2\n",
        " ) is a probability distribution that arises when a set of independent standard normal random variables is squared and summed. It is a special case of the gamma distribution and is used primarily in statistical inference. The distribution is often used for hypothesis testing, particularly in the context of categorical data.\n",
        " Goodness-of-Fit Test:\n",
        "\n",
        "The Chi-square distribution is used in the Chi-square goodness-of-fit test, which assesses how well observed categorical data fit a specific theoretical distribution. For example, this test might be used to determine whether a set of observed frequencies (e.g., the number of cars of each color sold) matches a specified expected distribution.\n",
        "\n",
        "Test of Independence:\n",
        "\n",
        "The Chi-square test for independence examines whether two categorical variables are independent or associated. For example, you might use this test to see if there is a relationship between gender and voting preference. Data is typically presented in a contingency table, and the Chi-square statistic is computed to test for independence between variables.\n",
        "18. What is the Chi-square goodness of fit test, and how is it applied ?\n",
        "- The Chi-square goodness of fit test is a statistical test used to determine whether an observed distribution of data matches an expected distribution. It is a type of Chi-square test that specifically assesses the difference between observed and expected frequencies in categorical data.\n",
        "State the hypotheses:\n",
        "\n",
        "Null hypothesis (H₀): The observed frequencies are consistent with the expected frequencies (i.e., there is no significant difference between the observed and expected distributions).\n",
        "\n",
        "Alternative hypothesis (H₁): The observed frequencies are significantly different from the expected frequencies (i.e., there is a difference between the observed and expected distributions).\n",
        "\n",
        "Calculate the expected frequencies:\n",
        "These are based on the assumption of the null hypothesis. If, for example, you are testing a die, the expected frequency for each side would be the total number of rolls divided by the number of sides (e.g., if you roll a die 60 times, each side would be expected to appear 10 times).\n",
        "19. What is the F-distribution, and when is it used in hypothesis testing ?\n",
        "- The F-distribution is a probability distribution that arises frequently in statistical inference, particularly in hypothesis testing and analysis of variance (ANOVA). It is used primarily to test the equality of variances and compare the goodness of fit between statistical models.\n",
        "The F-distribution is most commonly used in the following contexts:\n",
        "\n",
        "1. Analysis of Variance (ANOVA)\n",
        "Purpose: To compare the means of multiple groups and determine if there is a significant difference between them.\n",
        "\n",
        "Test: The F-test is used to compare the ratio of variance between group means to the variance within the groups.\n",
        "\n",
        "Hypothesis:\n",
        "\n",
        "Null hypothesis (\n",
        "𝐻\n",
        "0\n",
        "H\n",
        "0\n",
        "​\n",
        " ): All group means are equal.\n",
        " 20. What is an ANOVA test, and what are its assumptions ?\n",
        "- An ANOVA (Analysis of Variance) test is a statistical method used to compare means across multiple groups to determine if there are statistically significant differences between them. It helps to assess whether the variation in the data is due to differences between group means or if it is just random variation within the groups.\n",
        "\n",
        "Key Concepts:\n",
        "Null Hypothesis (H₀): The means of all groups are equal.\n",
        "\n",
        "Alternative Hypothesis (H₁): At least one group mean is different from the others.\n",
        "\n",
        "F-statistic: The ratio of variance between the groups to the variance within the groups. A higher F-statistic suggests greater differences between the group means relative to the variation within groups.\n",
        "21. What are the different types of ANOVA tests ?\n",
        "- ANOVA (Analysis of Variance) is a statistical technique used to compare means across different groups to determine if there is a significant difference between them. There are several types of ANOVA tests, depending on the structure and nature of the data. Here are the main types:\n",
        "\n",
        "1. One-Way ANOVA\n",
        "Purpose: Used when comparing the means of three or more independent groups based on one factor (independent variable).\n",
        "\n",
        "Example: Comparing test scores of students from three different teaching methods\n",
        "22. @ What is the F-test, and how does it relate to hypothesis testing ?\n",
        "- he F-test is a statistical test used to compare two variances or to test the overall significance of a regression model. It's commonly used in analysis of variance (ANOVA) and in regression analysis. The F-test helps determine if the variability between group means is greater than the variability within groups, or if a model explains more variance than would be expected by chance.\n",
        "\n",
        "# Practical\n",
        "1.  Write a Python program to perform a Z-test for comparing a sample mean to a known population mean and interpret the results ?\n"
      ],
      "metadata": {
        "id": "6FbvP4oMdapN"
      }
    },
    {
      "cell_type": "code",
      "source": [
        "import numpy as np\n",
        "from scipy import stats\n",
        "\n",
        "# Function to perform Z-test\n",
        "def z_test(sample_mean, population_mean, population_std, sample_size, alpha=0.05):\n",
        "    # Calculate the Z statistic\n",
        "    z_statistic = (sample_mean - population_mean) / (population_std / np.sqrt(sample_size))\n",
        "\n",
        "    # Calculate the p-value (two-tailed test)\n",
        "    p_value = 2 * (1 - stats.norm.cdf(abs(z_statistic)))\n",
        "\n",
        "    # Interpret the result\n",
        "    if p_value < alpha:\n",
        "        result = \"Reject the null hypothesis\"\n",
        "    else:\n",
        "        result = \"Fail to reject the null hypothesis\"\n",
        "\n",
        "    # Return the results\n",
        "    return z_statistic, p_value, result\n",
        "\n",
        "# Example usage\n",
        "sample_mean = 102  # Sample mean\n",
        "population_mean = 100  # Known population mean\n",
        "population_std = 15  # Population standard deviation\n",
        "sample_size = 30  # Sample size\n",
        "\n",
        "# Perform the Z-test\n",
        "z_statistic, p_value, result = z_test(sample_mean, population_mean, population_std, sample_size)\n",
        "\n",
        "# Display the results\n",
        "print(f\"Z-statistic: {z_statistic:.4f}\")\n",
        "print(f\"P-value: {p_value:.4f}\")\n",
        "print(f\"Interpretation: {result}\")\n"
      ],
      "metadata": {
        "colab": {
          "base_uri": "https://localhost:8080/"
        },
        "id": "lvFtJUeLjo3x",
        "outputId": "481f45e8-0472-44f6-9a65-68257570dea6"
      },
      "execution_count": 1,
      "outputs": [
        {
          "output_type": "stream",
          "name": "stdout",
          "text": [
            "Z-statistic: 0.7303\n",
            "P-value: 0.4652\n",
            "Interpretation: Fail to reject the null hypothesis\n"
          ]
        }
      ]
    },
    {
      "cell_type": "markdown",
      "source": [
        "2. Simulate random data to perform hypothesis testing and calculate the corresponding P-value using Python ?\n"
      ],
      "metadata": {
        "id": "_dqTLoivjvzB"
      }
    },
    {
      "cell_type": "code",
      "source": [
        "import numpy as np\n",
        "from scipy import stats\n",
        "\n",
        "# Step 1: Simulate two random datasets (Group A and Group B)\n",
        "np.random.seed(42)  # For reproducibility\n",
        "group_a = np.random.normal(loc=50, scale=10, size=100)  # Group A with mean=50, std=10, and 100 samples\n",
        "group_b = np.random.normal(loc=55, scale=10, size=100)  # Group B with mean=55, std=10, and 100 samples\n",
        "\n",
        "# Step 2: Perform a t-test (Independent samples t-test)\n",
        "t_stat, p_value = stats.ttest_ind(group_a, group_b)\n",
        "\n",
        "# Step 3: Print the results\n",
        "print(f\"T-statistic: {t_stat}\")\n",
        "print(f\"P-value: {p_value}\")\n",
        "\n",
        "# Step 4: Interpretation of the result\n",
        "alpha = 0.05  # Significance level\n",
        "if p_value < alpha:\n",
        "    print(\"Reject the null hypothesis: There is a significant difference between the two groups.\")\n",
        "else:\n",
        "    print(\"Fail to reject the null hypothesis: No significant difference between the two groups.\")\n"
      ],
      "metadata": {
        "colab": {
          "base_uri": "https://localhost:8080/"
        },
        "id": "RDmIxUIyj2oz",
        "outputId": "a8b5b0ec-caa7-4edb-e5ba-16fe8b84d18a"
      },
      "execution_count": 2,
      "outputs": [
        {
          "output_type": "stream",
          "name": "stdout",
          "text": [
            "T-statistic: -4.7546959435052765\n",
            "P-value: 3.8191352626795345e-06\n",
            "Reject the null hypothesis: There is a significant difference between the two groups.\n"
          ]
        }
      ]
    },
    {
      "cell_type": "markdown",
      "source": [
        "3.  Implement a one-sample Z-test using Python to compare the sample mean with the population mean ?\n"
      ],
      "metadata": {
        "id": "PSQyHQCtj9Pg"
      }
    },
    {
      "cell_type": "code",
      "source": [
        "import math\n",
        "from scipy.stats import norm\n",
        "\n",
        "# Step 1: Define the known values\n",
        "sample_mean = 105    # Example sample mean\n",
        "population_mean = 100  # Population mean (under the null hypothesis)\n",
        "population_std_dev = 15  # Population standard deviation\n",
        "sample_size = 50  # Sample size\n",
        "\n",
        "# Step 2: Calculate the Z-statistic\n",
        "z_statistic = (sample_mean - population_mean) / (population_std_dev / math.sqrt(sample_size))\n",
        "\n",
        "# Step 3: Calculate the p-value from the Z-statistic\n",
        "p_value = 2 * (1 - norm.cdf(abs(z_statistic)))  # Two-tailed test\n",
        "\n",
        "# Output the Z-statistic and p-value\n",
        "print(f\"Z-statistic: {z_statistic}\")\n",
        "print(f\"P-value: {p_value}\")\n",
        "\n",
        "# Step 4: Decision based on p-value and significance level (e.g., alpha = 0.05)\n",
        "alpha = 0.05\n",
        "if p_value < alpha:\n",
        "    print(\"Reject the null hypothesis: The sample mean is significantly different from the population mean.\")\n",
        "else:\n",
        "    print(\"Fail to reject the null hypothesis: There is no significant difference between the sample mean and the population mean.\")\n"
      ],
      "metadata": {
        "colab": {
          "base_uri": "https://localhost:8080/"
        },
        "id": "JpUC_QdCkEdO",
        "outputId": "8bc5d810-edd1-4100-9aad-3e8cb403b437"
      },
      "execution_count": 3,
      "outputs": [
        {
          "output_type": "stream",
          "name": "stdout",
          "text": [
            "Z-statistic: 2.3570226039551585\n",
            "P-value: 0.018422125454099048\n",
            "Reject the null hypothesis: The sample mean is significantly different from the population mean.\n"
          ]
        }
      ]
    },
    {
      "cell_type": "markdown",
      "source": [
        "4.  Perform a two-tailed Z-test using Python and visualize the decision region on a plot ?\n"
      ],
      "metadata": {
        "id": "nAdfKVaokLMy"
      }
    },
    {
      "cell_type": "code",
      "source": [
        "import numpy as np\n",
        "import matplotlib.pyplot as plt\n",
        "from scipy.stats import norm\n",
        "\n",
        "# Given data\n",
        "sample_mean = 50\n",
        "population_mean = 48\n",
        "population_std = 10\n",
        "sample_size = 30\n",
        "alpha = 0.05\n",
        "\n",
        "# Step 1: Calculate Z-value\n",
        "z_value = (sample_mean - population_mean) / (population_std / np.sqrt(sample_size))\n",
        "\n",
        "# Step 2: Calculate critical values for a two-tailed test (for 95% confidence)\n",
        "z_critical = norm.ppf(1 - alpha / 2)\n",
        "\n",
        "# Step 3: Visualization\n",
        "x = np.linspace(-4, 4, 1000)\n",
        "y = norm.pdf(x, 0, 1)\n",
        "\n",
        "plt.figure(figsize=(10, 6))\n",
        "\n",
        "# Plot the standard normal curve\n",
        "plt.plot(x, y, label='Standard Normal Distribution', color='blue')\n",
        "\n",
        "# Shade the rejection regions (tail areas)\n",
        "plt.fill_between_\n"
      ],
      "metadata": {
        "colab": {
          "base_uri": "https://localhost:8080/",
          "height": 681
        },
        "id": "8fnujuQ0kRdf",
        "outputId": "5cf99de7-2f69-4bfc-c8f6-0b00522c1f48"
      },
      "execution_count": 4,
      "outputs": [
        {
          "output_type": "error",
          "ename": "AttributeError",
          "evalue": "module 'matplotlib.pyplot' has no attribute 'fill_between_'",
          "traceback": [
            "\u001b[0;31m---------------------------------------------------------------------------\u001b[0m",
            "\u001b[0;31mAttributeError\u001b[0m                            Traceback (most recent call last)",
            "\u001b[0;32m<ipython-input-4-a74547425bc1>\u001b[0m in \u001b[0;36m<cell line: 0>\u001b[0;34m()\u001b[0m\n\u001b[1;32m     26\u001b[0m \u001b[0;34m\u001b[0m\u001b[0m\n\u001b[1;32m     27\u001b[0m \u001b[0;31m# Shade the rejection regions (tail areas)\u001b[0m\u001b[0;34m\u001b[0m\u001b[0;34m\u001b[0m\u001b[0m\n\u001b[0;32m---> 28\u001b[0;31m \u001b[0mplt\u001b[0m\u001b[0;34m.\u001b[0m\u001b[0mfill_between_\u001b[0m\u001b[0;34m\u001b[0m\u001b[0;34m\u001b[0m\u001b[0m\n\u001b[0m",
            "\u001b[0;31mAttributeError\u001b[0m: module 'matplotlib.pyplot' has no attribute 'fill_between_'"
          ]
        },
        {
          "output_type": "display_data",
          "data": {
            "text/plain": [
              "<Figure size 1000x600 with 1 Axes>"
            ],
            "image/png": "[encoded data removed]"
          },
          "metadata": {}
        }
      ]
    },
    {
      "cell_type": "markdown",
      "source": [
        "5. Create a Python function that calculates and visualizes Type 1 and Type 2 errors during hypothesis testing ?"
      ],
      "metadata": {
        "id": "jQoPkbBbkZb6"
      }
    },
    {
      "cell_type": "code",
      "source": [
        "import numpy as np\n",
        "import scipy.stats as stats\n",
        "import matplotlib.pyplot as plt\n",
        "\n",
        "def visualize_type_errors(pop_mean, sample_size, alpha=0.05, true_effect_size=0, num_simulations=1000):\n",
        "    \"\"\"\n",
        "    Simulate and visualize Type 1 and Type 2 errors during hypothesis testing.\n",
        "\n",
        "    Parameters:\n",
        "        pop_mean (float): Mean of the population under the null hypothesis (H0).\n",
        "        sample_size (int): Size of the sample drawn from the population.\n",
        "        alpha (float): Significance level of the hypothesis test (default is 0.05).\n",
        "        true_effect_size (float): The true mean difference if H0 is false (default is 0).\n",
        "        num_simulations (int): Number of simulations to run (default is 1000).\n",
        "    \"\"\"\n",
        "\n",
        "    # Set up variables for the hypothesis test\n",
        "    critical_value = stats.norm.ppf(1 - alpha)  # Critical value for a one-tailed test at alpha significance\n",
        "\n",
        "    # Simulate data under the null hypothesis (Type 1 Error scenario)\n",
        "    type_1_errors = 0\n",
        "    type_2_errors = 0\n",
        "    rejection_region = []\n",
        "\n",
        "    for _ in range(num_simulations):\n",
        "        # Generate data under the null hypothesis (H0 is true)\n",
        "        sample_data_null = np.random.normal(pop_mean, 1, sample_size)\n",
        "        sample_mean_null = np.mean(sample_data_null)\n",
        "        sample_std_null = np.std(sample_data_null, ddof=1)\n",
        "        t_stat_null = (sample_mean_null - pop_mean) / (sample_std_null / np.sqrt(sample_size))\n",
        "\n"
      ],
      "metadata": {
        "id": "-MZedBggkfhl"
      },
      "execution_count": 5,
      "outputs": []
    },
    {
      "cell_type": "markdown",
      "source": [
        "6. Write a Python program to perform an independent T-test and interpret the results ?\n"
      ],
      "metadata": {
        "id": "cSjY9T-Qklb7"
      }
    },
    {
      "cell_type": "code",
      "source": [
        "import numpy as np\n",
        "from scipy import stats\n",
        "\n",
        "# Example data: two independent samples\n",
        "# Sample 1: Group A (e.g., heights of people in group A)\n",
        "group_A = np.array([170, 175, 180, 165, 160, 155, 167, 172, 178, 174])\n",
        "\n",
        "# Sample 2: Group B (e.g., heights of people in group B)\n",
        "group_B = np.array([158, 163, 167, 160, 155, 150, 152, 160, 164, 168])\n",
        "\n",
        "# Perform an independent t-test\n",
        "t_stat, p_value = stats.ttest_ind(group_A, group_B)\n",
        "\n",
        "# Output the results\n",
        "print(f\"T-statistic: {t_stat}\")\n",
        "print(f\"P-value: {p_value}\")\n"
      ],
      "metadata": {
        "colab": {
          "base_uri": "https://localhost:8080/"
        },
        "id": "OKU5jnPtkq5u",
        "outputId": "932b3c2f-908a-4f1b-9c46-dbb06211cbf9"
      },
      "execution_count": 7,
      "outputs": [
        {
          "output_type": "stream",
          "name": "stdout",
          "text": [
            "T-statistic: 3.136760080669382\n",
            "P-value: 0.005701450435592633\n"
          ]
        }
      ]
    },
    {
      "cell_type": "markdown",
      "source": [
        "7. Perform a paired sample T-test using Python and visualize the comparison results ?"
      ],
      "metadata": {
        "id": "HdbzzOYUkvOO"
      }
    },
    {
      "cell_type": "code",
      "source": [
        "import numpy as np\n",
        "import matplotlib.pyplot as plt\n",
        "from scipy import stats\n",
        "\n",
        "# Example data: Before and after treatment\n",
        "before = np.array([23, 21, 19, 24, 20, 22, 23, 25, 21, 19])\n",
        "after = np.array([30, 29, 28, 32, 27, 30, 31, 34, 29, 27])\n",
        "\n",
        "# Step 1: Perform paired sample t-test\n",
        "t_stat, p_value = stats.ttest_rel(before, after)\n",
        "\n",
        "# Print the t-test results\n",
        "print\n"
      ],
      "metadata": {
        "colab": {
          "base_uri": "https://localhost:8080/"
        },
        "id": "ZBnYJVQYkzi_",
        "outputId": "2e5becef-72a3-47f8-e089-3dd103a058c4"
      },
      "execution_count": 8,
      "outputs": [
        {
          "output_type": "execute_result",
          "data": {
            "text/plain": [
              "<function print(*args, sep=' ', end='\\n', file=None, flush=False)>"
            ]
          },
          "metadata": {},
          "execution_count": 8
        }
      ]
    },
    {
      "cell_type": "markdown",
      "source": [
        "8. Simulate data and perform both Z-test and T-test, then compare the results using Python ?\n"
      ],
      "metadata": {
        "id": "2jqlsL2lk4AW"
      }
    },
    {
      "cell_type": "code",
      "source": [
        "import numpy as np\n",
        "from scipy import stats\n",
        "\n",
        "# Step 1: Simulate data\n",
        "np.random.seed(42)  # For reproducibility\n",
        "\n",
        "# Sample size\n",
        "n = 30\n",
        "\n",
        "# Simulated sample data\n",
        "group1 = np.random.normal(loc=100, scale=15, size=n)  # Mean = 100, SD = 15\n",
        "group2 = np.random.normal(loc=105, scale=15, size=n)  # Mean = 105, SD = 15\n",
        "\n",
        "# Step 2: Perform Z-test\n",
        "# For Z-test, we assume we know the population standard deviation (15 here)\n",
        "pop_std = 15\n",
        "mean1 = np.mean(group1)\n",
        "mean2 = np.mean(group2)\n",
        "\n",
        "# Z-test statistic\n",
        "z_stat = (mean1 - mean2) / (pop_std * np.sqrt(2 / n))  # Combined standard deviation for two samples\n",
        "# Two-tailed p-value for Z-test\n",
        "z_p_value = 2 * (1 - stats.norm.cdf(abs(z_stat)))\n",
        "\n",
        "# Step 3: Perform T-test\n",
        "t_stat, t_p_value = stats.ttest_ind(group1, group2)\n",
        "\n",
        "# Step 4: Display results\n",
        "print(f\"Z-test: Z-statistic = {z_stat:.4f}, P-value = {z_p_value:.4f}\")\n",
        "print(f\"T-test: T-statistic = {t_stat:.4f}, P-value = {t_p_value:.4f}\")\n",
        "\n",
        "# Conclusion based on p-value\n",
        "alpha = 0.05\n",
        "print(\"\\nConclusion:\")\n",
        "if z_p_value < alpha:\n",
        "    print(\"Z-test: Reject null hypothesis (significant difference between groups).\")\n",
        "else:\n",
        "    print(\"Z-test: Fail to reject null hypothesis (no significant difference between groups).\")\n",
        "\n",
        "if t_p_value < alpha:\n",
        "    print(\"T-test: Reject null hypothesis (significant difference between groups).\")\n",
        "else:\n",
        "    print(\"T-test: Fail to reject null hypothesis (no significant difference between groups).\")\n"
      ],
      "metadata": {
        "colab": {
          "base_uri": "https://localhost:8080/"
        },
        "id": "bRScofCbk9GI",
        "outputId": "0ab80e47-c629-4c05-bbfe-f6e838a89400"
      },
      "execution_count": 9,
      "outputs": [
        {
          "output_type": "stream",
          "name": "stdout",
          "text": [
            "Z-test: Z-statistic = -1.5504, P-value = 0.1210\n",
            "T-test: T-statistic = -1.6932, P-value = 0.0958\n",
            "\n",
            "Conclusion:\n",
            "Z-test: Fail to reject null hypothesis (no significant difference between groups).\n",
            "T-test: Fail to reject null hypothesis (no significant difference between groups).\n"
          ]
        }
      ]
    },
    {
      "cell_type": "markdown",
      "source": [
        "9. Write a Python function to calculate the confidence interval for a sample mean and explain its significance ?\n"
      ],
      "metadata": {
        "id": "HM8EL7MRlDkn"
      }
    },
    {
      "cell_type": "code",
      "source": [
        "import scipy.stats as stats\n",
        "import numpy as np\n",
        "\n",
        "def confidence_interval(sample_data, confidence_level=0.95):\n",
        "    # Sample size (n), sample mean, and sample standard deviation\n",
        "    n = len(sample_data)\n",
        "    sample_mean = np.mean(sample_data)\n",
        "    sample_std = np.std(sample_data, ddof=1)  # Use ddof=1 for sample standard deviation\n",
        "\n",
        "    # Degrees of freedom\n",
        "    df = n - 1\n",
        "\n",
        "    # Calculate the t critical value for the given confidence level\n",
        "    t_critical = stats.t.ppf((1 + confidence_level) / 2, df)\n",
        "\n",
        "    # Standard error of the mean\n",
        "    standard_error = sample_std / np.sqrt(n)\n",
        "\n",
        "    #\n"
      ],
      "metadata": {
        "id": "ElgR9FS8lI4M"
      },
      "execution_count": 10,
      "outputs": []
    },
    {
      "cell_type": "markdown",
      "source": [
        "10. Write a Python program to calculate the margin of error for a given confidence level using sample data ?\n"
      ],
      "metadata": {
        "id": "5fKG0LIClOCV"
      }
    },
    {
      "cell_type": "code",
      "source": [
        "import scipy.stats as stats\n",
        "import math\n",
        "\n",
        "def calculate_margin_of_error(confidence_level, standard_deviation, sample_size):\n",
        "    # Determine the z-score based on the confidence level\n",
        "    z_score = stats.norm.ppf(1 - (1 - confidence_level) / 2)\n",
        "\n",
        "    # Calculate the margin of error\n",
        "    margin_of_error = z_score * (standard_deviation / math.sqrt(sample_size))\n",
        "\n",
        "    return margin_of_error\n",
        "\n",
        "def main():\n",
        "    # Sample inputs\n",
        "    confidence_level = float(input(\"Enter the confidence level (as a decimal, e.g., 0.95 for 95%): \"))\n",
        "    standard_deviation = float(input(\"Enter the sample standard deviation: \"))\n",
        "    sample_size = int(input(\"Enter the sample size: \"))\n",
        "\n",
        "    # Calculate margin of error\n",
        "    margin_of_error = calculate_margin_of_error(confidence_level, standard_deviation, sample_size)\n",
        "\n",
        "    print(f\"Margin of Error: {margin_of_error:.4f}\")\n",
        "\n",
        "if __name__ == \"__main__\":\n",
        "    main()\n"
      ],
      "metadata": {
        "id": "4WlAT52VlUzH"
      },
      "execution_count": null,
      "outputs": []
    },
    {
      "cell_type": "markdown",
      "source": [
        "11. Implement a Bayesian inference method using Bayes' Theorem in Python and explain the process ?"
      ],
      "metadata": {
        "id": "Ip87o84clbAF"
      }
    },
    {
      "cell_type": "code",
      "source": [
        "import numpy as np\n",
        "import matplotlib.pyplot as plt\n",
        "\n",
        "# Define the likelihood function P(E | H)\n",
        "# We model the likelihood using the binomial distribution\n",
        "def likelihood(p_head, n_flips=10, n_heads=7):\n",
        "    return (p_head ** n_heads) * ((1 - p_head) ** (n_flips - n_heads))\n",
        "\n",
        "# Define the prior belief about the coin's bias (uniform prior)\n",
        "def prior(p_head):\n",
        "    # Assume a uniform prior from 0 to 1 (no strong belief about bias)\n",
        "    return 1 if 0 <= p_head <= 1 else_\n"
      ],
      "metadata": {
        "id": "VWdH62EolgZG"
      },
      "execution_count": null,
      "outputs": []
    },
    {
      "cell_type": "markdown",
      "source": [
        "12. Perform a Chi-square test for independence between two categorical variables in Python ?"
      ],
      "metadata": {
        "id": "8hPgT1hgll45"
      }
    },
    {
      "cell_type": "code",
      "source": [
        "import pandas as pd\n",
        "import scipy.stats as stats\n",
        "\n",
        "# Example categorical data\n",
        "data = {\n",
        "    'Variable1': ['A', 'A', 'B', 'B', 'A', 'B', 'A', 'B', 'A', 'B'],\n",
        "    'Variable2': ['X', 'Y', 'X', 'Y', 'Y', 'X', 'Y', 'X', 'X', 'Y']\n",
        "}\n",
        "\n",
        "# Create a DataFrame\n",
        "df = pd.DataFrame(data)\n",
        "\n",
        "# Create a contingency table (cross-tabulation)\n",
        "contingency_table = pd.crosstab(df['Variable1'], df['Variable2'])\n",
        "\n",
        "# Perform Chi-square test\n"
      ],
      "metadata": {
        "id": "5ccueX3Jlr9g"
      },
      "execution_count": null,
      "outputs": []
    },
    {
      "cell_type": "markdown",
      "source": [
        "13. Write a Python program to calculate the expected frequencies for a Chi-square test based on observed\n",
        "data ?"
      ],
      "metadata": {
        "id": "vyEo_fHmlwbC"
      }
    },
    {
      "cell_type": "code",
      "source": [
        "import numpy as np\n",
        "\n",
        "def calculate_expected_frequencies(observed):\n",
        "    # Convert the observed data into a numpy array for easier manipulation\n",
        "    observed = np.array(observed)\n",
        "\n",
        "    # Calculate the row sums, column sums, and the grand total\n",
        "    row_totals = observed.sum(axis=1)\n",
        "    column_totals = observed.sum(axis=0)\n",
        "    grand_total = observed.sum()\n",
        "\n",
        "    # Calculate the expected frequencies\n",
        "    expected = np.outer(row_totals, column_totals) / grand_total\n",
        "\n",
        "    return expected\n",
        "\n",
        "# Example observed data: a contingency table (2x2)\n",
        "observed_data = [\n",
        "    [50, 30],  # Category 1\n",
        "    [40, 80]   # Category 2\n",
        "]\n",
        "\n",
        "# Calculate expected frequencies\n",
        "expected_frequencies = calculate_expected_frequencies(observed_data)\n",
        "\n",
        "# Display the results\n",
        "print(\"Observed\n"
      ],
      "metadata": {
        "id": "_NezrtZ-l0j6"
      },
      "execution_count": null,
      "outputs": []
    },
    {
      "cell_type": "markdown",
      "source": [
        "14. Perform a goodness-of-fit test using Python to compare the observed data to an expected distribution ?\n"
      ],
      "metadata": {
        "id": "xvWU6VAkl45M"
      }
    },
    {
      "cell_type": "code",
      "source": [
        "import numpy as np\n",
        "from scipy.stats import chisquare\n",
        "import matplotlib.pyplot as plt\n"
      ],
      "metadata": {
        "id": "n9StRKVIl9WS"
      },
      "execution_count": null,
      "outputs": []
    },
    {
      "cell_type": "markdown",
      "source": [
        "15. Create a Python script to simulate and visualize the Chi-square distribution and discuss its characteristics ?"
      ],
      "metadata": {
        "id": "Y5ktpQr5mDLk"
      }
    },
    {
      "cell_type": "code",
      "source": [
        "import numpy as np\n",
        "import matplotlib.pyplot as plt\n",
        "import seaborn as sns\n",
        "\n",
        "# Set the seed for reproducibility\n",
        "np.random.seed(42)\n",
        "\n",
        "# Parameters\n",
        "df = 5  # Degrees of freedom\n",
        "n_samples = 10000  # Number of samples\n",
        "\n",
        "# Simulating Chi-square distribution by summing squares of standard normal variables\n",
        "chi_square_samples = np.sum(np.random.normal(0, 1, (n_samples, df)) ** 2, axis=1)\n",
        "\n",
        "# Plotting the histogram\n",
        "plt.figure(figsize=(10, 6))\n",
        "sns.histplot(chi_square_samples, kde=True, bins=50, color='skyblue', stat='density')\n",
        "\n",
        "# Plotting the theoretical Chi-square distribution\n",
        "x = np.linspace(0, max(chi_square_samples), 1000)\n",
        "theoretical_pdf = (x**(df/2 - 1) * np.exp(-x/2)) / (2**(df/2) * np.math.gamma(df/2))\n",
        "plt.plot(x, theoretical_pdf, color='red', label='Theoretical Chi-Square Distribution', linewidth=2)\n",
        "\n",
        "# Adding titles and labels\n",
        "plt.title(f'Chi-Square Distribution with {df} Degrees of Freedom', fontsize=16)\n",
        "plt.xlabel('Value', fontsize=12)\n",
        "plt.ylabel('Density', fontsize=12)\n",
        "plt.legend()\n",
        "\n",
        "# Show plot\n",
        "plt.show()\n"
      ],
      "metadata": {
        "id": "gYXlqzMRmPbw"
      },
      "execution_count": null,
      "outputs": []
    },
    {
      "cell_type": "markdown",
      "source": [
        "16. Implement an F-test using Python to compare the variances of two random samples ?\n",
        "- import numpy as np\n",
        "from scipy import stats\n",
        "\n",
        "# Generate two random samples\n",
        "np.random.seed(0)  # For reproducibility\n",
        "sample1 = np.random.normal(loc=10, scale=2, size=30)  # Sample 1 with mean 10 and std 2\n",
        "sample2 = np.random.normal(loc=15, scale=3, size=30)  # Sample 2 with mean 15 and std 3\n",
        "\n",
        "# Calculate variances of the samples\n",
        "var1 = np.var(sample1, ddof=1)  # Sample variance for sample1\n",
        "var2 = np.var(sample2, ddof=1)  # Sample variance for sample2\n",
        "\n",
        "# Compute the F-statistic (ratio of the variances)\n",
        "f_statistic = var1 / var2 if var1 > var2 else var2 / var1\n",
        "\n",
        "# Degrees of freedom for each sample\n",
        "df1 = len(sample1) - 1  # degrees of freedom for sample1\n",
        "df2 = len(sample2) - 1  # degrees of freedom for sample2\n",
        "\n",
        "# Calculate the p-value using the F-distribution\n",
        "p_value = 1 - stats.f.cdf(f_statistic, df1, df2)\n",
        "\n",
        "# Output the results\n",
        "print(f\"Variance of Sample 1: {var1}\")\n",
        "print(f\"Variance of Sample\n"
      ],
      "metadata": {
        "id": "Iarz6-_tmULW"
      }
    },
    {
      "cell_type": "markdown",
      "source": [
        "17. Write a Python program to perform an ANOVA test to compare means between multiple groups and\n",
        "interpret the results ?\n"
      ],
      "metadata": {
        "id": "0ZkDqETZmd-g"
      }
    },
    {
      "cell_type": "code",
      "source": [
        "import numpy as np\n",
        "import scipy.stats as stats\n",
        "\n",
        "# Sample data: three groups with different values\n",
        "group_1 = [23, 21, 18, 25, 30]\n",
        "group_2 = [10, 13, 15, 12, 9]\n",
        "group_3 = [40, 35, 50, 45, 48]\n",
        "\n",
        "# Perform ANOVA test\n",
        "f_statistic, p_value = stats.f_oneway(group_1, group_2, group_3)\n",
        "\n",
        "# Output the results\n",
        "print(f\"F-statistic: {f_statistic}\")\n",
        "print(f\"P-value: {p_value}\")\n",
        "\n",
        "# Interpretation of the results\n",
        "alpha = 0.05  # significance level (5%)\n",
        "\n",
        "if p_value <_\n",
        "\n"
      ],
      "metadata": {
        "id": "dirhR-gnmich"
      },
      "execution_count": null,
      "outputs": []
    },
    {
      "cell_type": "markdown",
      "source": [
        "18. Perform a one-way ANOVA test using Python to compare the means of different groups and plot the results ?\n"
      ],
      "metadata": {
        "id": "7bZHYNOdmoP7"
      }
    },
    {
      "cell_type": "code",
      "source": [
        "import numpy as np\n",
        "import matplotlib.pyplot as plt\n",
        "from scipy import stats\n",
        "\n",
        "# Example data for different groups\n",
        "group1 = [23, 21, 19, 24, 20]\n",
        "group2 = [30, 32, 31, 29, 33]\n",
        "group3 = [10, 11, 9, 12, 10]\n",
        "\n",
        "# Perform one-way ANOVA\n",
        "f_statistic, p_value = stats.f_oneway(group1, group2, group3)\n",
        "\n",
        "# Display the results of ANOVA\n",
        "print(f'F-statistic: {f_statistic}')\n",
        "print(f'P-value:\n"
      ],
      "metadata": {
        "id": "rK8cz2W5mt4Q"
      },
      "execution_count": null,
      "outputs": []
    },
    {
      "cell_type": "markdown",
      "source": [
        "19. D Write a Python function to check the assumptions (normality, independence, and equal variance) for ANOVA ?\n"
      ],
      "metadata": {
        "id": "CerRyRq8myQD"
      }
    },
    {
      "cell_type": "code",
      "source": [],
      "metadata": {
        "id": "TcRvDbv1m3bm"
      },
      "execution_count": null,
      "outputs": []
    }
  ]
}